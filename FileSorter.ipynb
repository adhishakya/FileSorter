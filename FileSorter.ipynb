{
 "cells": [
  {
   "cell_type": "code",
   "execution_count": 89,
   "id": "b9fcc861-9037-4767-a5c8-816b14ac2585",
   "metadata": {},
   "outputs": [],
   "source": [
    "import os, shutil"
   ]
  },
  {
   "cell_type": "code",
   "execution_count": 90,
   "id": "dbfcf070-728c-421b-83e8-ae52bf055d95",
   "metadata": {},
   "outputs": [],
   "source": [
    "path = r'C:/Users/Adhish/Downloads/File Sorter/'"
   ]
  },
  {
   "cell_type": "code",
   "execution_count": 91,
   "id": "e60d237e-21a5-4544-b828-c45fc38b6e66",
   "metadata": {},
   "outputs": [],
   "source": [
    "file_names = os.listdir(path)"
   ]
  },
  {
   "cell_type": "code",
   "execution_count": 92,
   "id": "b08cf3c9-cd9d-4645-9ba3-964a244d56df",
   "metadata": {},
   "outputs": [],
   "source": [
    "folders = ['excel files', 'image files', 'exe files', 'other files']"
   ]
  },
  {
   "cell_type": "code",
   "execution_count": 93,
   "id": "e9dafe88-fe67-4ddd-a7c8-1c5ada9e1634",
   "metadata": {},
   "outputs": [
    {
     "name": "stdout",
     "output_type": "stream",
     "text": [
      "Created 'excel files' in C:/Users/Adhish/Downloads/File Sorter/\n",
      "Created 'image files' in C:/Users/Adhish/Downloads/File Sorter/\n",
      "Created 'exe files' in C:/Users/Adhish/Downloads/File Sorter/\n",
      "Created 'other files' in C:/Users/Adhish/Downloads/File Sorter/\n"
     ]
    }
   ],
   "source": [
    "for folder_names in range (0, len(folders)):\n",
    "    if not os.path.exists(path + folders[folder_names]):\n",
    "        print(\"Created '\" + folders[folder_names] + \"' in \"+ path)\n",
    "        os.makedirs(path + folders[folder_names])"
   ]
  },
  {
   "cell_type": "code",
   "execution_count": 94,
   "id": "3e765004-22de-4b3b-a61d-59b85e8dd271",
   "metadata": {},
   "outputs": [
    {
     "name": "stdout",
     "output_type": "stream",
     "text": [
      "['Conditional Formatting Excel Tutorial File.xlsx', 'Excel Charts Tutorial File.xlsx', 'IMG_9980.JPG', 'IMG_9990.JPG', 'LocalSend-1.16.1-windows-x86-64.exe', 'Screenshot 2025-02-04 132228.png', 'Screenshot 2025-02-04 132837.png', 'Screenshot 2025-02-06 104927.png', 'test.txt', 'test2.txt']\n"
     ]
    }
   ],
   "source": [
    "print(file_names)"
   ]
  },
  {
   "cell_type": "code",
   "execution_count": 95,
   "id": "59c99be9-e56b-42fe-aa45-55d4b70ef18a",
   "metadata": {},
   "outputs": [
    {
     "name": "stdout",
     "output_type": "stream",
     "text": [
      "Relevant files moved to respective folder.\n"
     ]
    }
   ],
   "source": [
    "for file in file_names:\n",
    "    if file.lower().endswith(('.csv','.xlsx')) and not os.path.exists(path + 'excel files/' + file):\n",
    "        shutil.move(path + file, path + 'excel files/'+ file)\n",
    "    elif file.lower().endswith(('.png','.jpg')) and not os.path.exists(path + 'image files/' + file):\n",
    "        shutil.move(path + file, path + 'image files/'+ file)\n",
    "    elif file.lower().endswith('.exe') and not os.path.exists(path + 'exe files/' + file):\n",
    "        shutil.move(path + file, path + 'exe files/' + file)\n",
    "    else:\n",
    "        if not os.path.exists(path + 'other files/' + file) and os.path.isfile(path + file):\n",
    "            shutil.move(path + file, path + 'other files/' + file)\n",
    "\n",
    "print('Relevant files moved to respective folder.')"
   ]
  },
  {
   "cell_type": "code",
   "execution_count": null,
   "id": "180ae9ce-cd2d-449d-a1a3-4657ba5335de",
   "metadata": {},
   "outputs": [],
   "source": []
  }
 ],
 "metadata": {
  "kernelspec": {
   "display_name": "Python 3 (ipykernel)",
   "language": "python",
   "name": "python3"
  },
  "language_info": {
   "codemirror_mode": {
    "name": "ipython",
    "version": 3
   },
   "file_extension": ".py",
   "mimetype": "text/x-python",
   "name": "python",
   "nbconvert_exporter": "python",
   "pygments_lexer": "ipython3",
   "version": "3.12.7"
  }
 },
 "nbformat": 4,
 "nbformat_minor": 5
}
